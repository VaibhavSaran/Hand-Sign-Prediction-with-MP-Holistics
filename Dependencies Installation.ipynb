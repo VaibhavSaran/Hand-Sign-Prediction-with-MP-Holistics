{
 "cells": [
  {
   "cell_type": "markdown",
   "id": "059e53fa-9cc5-4d06-9d95-d13c70799920",
   "metadata": {},
   "source": [
    "# Dependencies Required for the Model to Run\n",
    "1) Tensorflow should be installed according to what version you want to use and corresponding tensorflow-gpu should be installed if Nvidia GPU is available on the system.<br>\n",
    "2) In case you are running the project on a cloud source like Google Colab or Kaggle then there is no need to run this notebook as all these dependencies are covered over there.<br>\n",
    "3) While Running this notebook and the model it is highly recommended that a use of virtual environment is made."
   ]
  },
  {
   "cell_type": "code",
   "execution_count": 1,
   "id": "0a6059ba",
   "metadata": {
    "collapsed": true,
    "jupyter": {
     "outputs_hidden": true
    },
    "tags": []
   },
   "outputs": [
    {
     "name": "stdout",
     "output_type": "stream",
     "text": [
      "Collecting tensorflow==2.5.0\n",
      "  Using cached tensorflow-2.5.0-cp37-cp37m-win_amd64.whl (422.6 MB)\n",
      "Collecting grpcio~=1.34.0\n",
      "  Using cached grpcio-1.34.1-cp37-cp37m-win_amd64.whl (2.9 MB)\n",
      "Collecting flatbuffers~=1.12.0\n",
      "  Using cached flatbuffers-1.12-py2.py3-none-any.whl (15 kB)\n",
      "Collecting keras-nightly~=2.5.0.dev\n",
      "  Using cached keras_nightly-2.5.0.dev2021032900-py2.py3-none-any.whl (1.2 MB)\n",
      "Collecting tensorflow-estimator<2.6.0,>=2.5.0rc0\n",
      "  Using cached tensorflow_estimator-2.5.0-py2.py3-none-any.whl (462 kB)\n",
      "Collecting absl-py~=0.10\n",
      "  Using cached absl_py-0.13.0-py3-none-any.whl (132 kB)\n",
      "Collecting termcolor~=1.1.0\n",
      "  Using cached termcolor-1.1.0-py3-none-any.whl\n",
      "Collecting tensorboard~=2.5\n",
      "  Using cached tensorboard-2.5.0-py3-none-any.whl (6.0 MB)\n",
      "Collecting gast==0.4.0\n",
      "  Using cached gast-0.4.0-py3-none-any.whl (9.8 kB)\n",
      "Collecting opt-einsum~=3.3.0\n",
      "  Using cached opt_einsum-3.3.0-py3-none-any.whl (65 kB)\n",
      "Collecting protobuf>=3.9.2\n",
      "  Using cached protobuf-3.17.3-cp37-cp37m-win_amd64.whl (909 kB)\n",
      "Collecting six~=1.15.0\n",
      "  Using cached six-1.15.0-py2.py3-none-any.whl (10 kB)\n",
      "Collecting h5py~=3.1.0\n",
      "  Using cached h5py-3.1.0-cp37-cp37m-win_amd64.whl (2.7 MB)\n",
      "Collecting wheel~=0.35\n",
      "  Using cached wheel-0.36.2-py2.py3-none-any.whl (35 kB)\n",
      "Collecting wrapt~=1.12.1\n",
      "  Using cached wrapt-1.12.1.tar.gz (27 kB)\n",
      "Collecting numpy~=1.19.2\n",
      "  Using cached numpy-1.19.5-cp37-cp37m-win_amd64.whl (13.2 MB)\n",
      "Collecting keras-preprocessing~=1.1.2\n",
      "  Using cached Keras_Preprocessing-1.1.2-py2.py3-none-any.whl (42 kB)\n",
      "Collecting google-pasta~=0.2\n",
      "  Using cached google_pasta-0.2.0-py3-none-any.whl (57 kB)\n",
      "Collecting astunparse~=1.6.3\n",
      "  Using cached astunparse-1.6.3-py2.py3-none-any.whl (12 kB)\n",
      "Collecting typing-extensions~=3.7.4\n",
      "  Using cached typing_extensions-3.7.4.3-py3-none-any.whl (22 kB)\n",
      "Collecting cached-property\n",
      "  Using cached cached_property-1.5.2-py2.py3-none-any.whl (7.6 kB)\n",
      "Collecting setuptools>=41.0.0\n",
      "  Using cached setuptools-57.0.0-py3-none-any.whl (821 kB)\n",
      "Collecting werkzeug>=0.11.15\n",
      "  Using cached Werkzeug-2.0.1-py3-none-any.whl (288 kB)\n",
      "Collecting requests<3,>=2.21.0\n",
      "  Using cached requests-2.25.1-py2.py3-none-any.whl (61 kB)\n",
      "Collecting google-auth-oauthlib<0.5,>=0.4.1\n",
      "  Using cached google_auth_oauthlib-0.4.4-py2.py3-none-any.whl (18 kB)\n",
      "Collecting tensorboard-plugin-wit>=1.6.0\n",
      "  Using cached tensorboard_plugin_wit-1.8.0-py3-none-any.whl (781 kB)\n",
      "Collecting tensorboard-data-server<0.7.0,>=0.6.0\n",
      "  Using cached tensorboard_data_server-0.6.1-py3-none-any.whl (2.4 kB)\n",
      "Collecting google-auth<2,>=1.6.3\n",
      "  Using cached google_auth-1.32.0-py2.py3-none-any.whl (147 kB)\n",
      "Collecting markdown>=2.6.8\n",
      "  Using cached Markdown-3.3.4-py3-none-any.whl (97 kB)\n",
      "Collecting pyasn1-modules>=0.2.1\n",
      "  Using cached pyasn1_modules-0.2.8-py2.py3-none-any.whl (155 kB)\n",
      "Collecting rsa<5,>=3.1.4\n",
      "  Using cached rsa-4.7.2-py3-none-any.whl (34 kB)\n",
      "Collecting cachetools<5.0,>=2.0.0\n",
      "  Using cached cachetools-4.2.2-py3-none-any.whl (11 kB)\n",
      "Collecting requests-oauthlib>=0.7.0\n",
      "  Using cached requests_oauthlib-1.3.0-py2.py3-none-any.whl (23 kB)\n",
      "Collecting importlib-metadata\n",
      "  Downloading importlib_metadata-4.6.0-py3-none-any.whl (17 kB)\n",
      "Collecting pyasn1<0.5.0,>=0.4.6\n",
      "  Using cached pyasn1-0.4.8-py2.py3-none-any.whl (77 kB)\n",
      "Collecting idna<3,>=2.5\n",
      "  Using cached idna-2.10-py2.py3-none-any.whl (58 kB)\n",
      "Collecting urllib3<1.27,>=1.21.1\n",
      "  Downloading urllib3-1.26.6-py2.py3-none-any.whl (138 kB)\n",
      "Collecting certifi>=2017.4.17\n",
      "  Using cached certifi-2021.5.30-py2.py3-none-any.whl (145 kB)\n",
      "Collecting chardet<5,>=3.0.2\n",
      "  Using cached chardet-4.0.0-py2.py3-none-any.whl (178 kB)\n",
      "Collecting oauthlib>=3.0.0\n",
      "  Using cached oauthlib-3.1.1-py2.py3-none-any.whl (146 kB)\n",
      "Collecting zipp>=0.5\n",
      "  Using cached zipp-3.4.1-py3-none-any.whl (5.2 kB)\n",
      "Using legacy 'setup.py install' for wrapt, since package 'wheel' is not installed.\n",
      "Installing collected packages: urllib3, pyasn1, idna, chardet, certifi, zipp, typing-extensions, six, setuptools, rsa, requests, pyasn1-modules, oauthlib, cachetools, requests-oauthlib, importlib-metadata, google-auth, wheel, werkzeug, tensorboard-plugin-wit, tensorboard-data-server, protobuf, numpy, markdown, grpcio, google-auth-oauthlib, cached-property, absl-py, wrapt, termcolor, tensorflow-estimator, tensorboard, opt-einsum, keras-preprocessing, keras-nightly, h5py, google-pasta, gast, flatbuffers, astunparse, tensorflow\n",
      "  Attempting uninstall: six\n",
      "    Found existing installation: six 1.16.0\n",
      "    Uninstalling six-1.16.0:\n",
      "      Successfully uninstalled six-1.16.0\n",
      "  Attempting uninstall: setuptools\n",
      "    Found existing installation: setuptools 40.8.0\n",
      "    Uninstalling setuptools-40.8.0:\n",
      "      Successfully uninstalled setuptools-40.8.0\n",
      "  Attempting uninstall: numpy\n",
      "    Found existing installation: numpy 1.21.0\n",
      "    Uninstalling numpy-1.21.0:\n",
      "      Successfully uninstalled numpy-1.21.0\n",
      "    Running setup.py install for wrapt: started\n",
      "    Running setup.py install for wrapt: finished with status 'done'\n",
      "Successfully installed absl-py-0.13.0 astunparse-1.6.3 cached-property-1.5.2 cachetools-4.2.2 certifi-2021.5.30 chardet-4.0.0 flatbuffers-1.12 gast-0.4.0 google-auth-1.32.0 google-auth-oauthlib-0.4.4 google-pasta-0.2.0 grpcio-1.34.1 h5py-3.1.0 idna-2.10 importlib-metadata-4.6.0 keras-nightly-2.5.0.dev2021032900 keras-preprocessing-1.1.2 markdown-3.3.4 numpy-1.19.5 oauthlib-3.1.1 opt-einsum-3.3.0 protobuf-3.17.3 pyasn1-0.4.8 pyasn1-modules-0.2.8 requests-2.25.1 requests-oauthlib-1.3.0 rsa-4.7.2 setuptools-57.0.0 six-1.15.0 tensorboard-2.5.0 tensorboard-data-server-0.6.1 tensorboard-plugin-wit-1.8.0 tensorflow-2.5.0 tensorflow-estimator-2.5.0 termcolor-1.1.0 typing-extensions-3.7.4.3 urllib3-1.26.6 werkzeug-2.0.1 wheel-0.36.2 wrapt-1.12.1 zipp-3.4.1\n"
     ]
    }
   ],
   "source": [
    "!pip install tensorflow==2.5.0 "
   ]
  },
  {
   "cell_type": "code",
   "execution_count": 2,
   "id": "6a5d242a-ff90-4ae9-83b7-4decbaa1c383",
   "metadata": {
    "collapsed": true,
    "jupyter": {
     "outputs_hidden": true
    },
    "tags": []
   },
   "outputs": [
    {
     "name": "stdout",
     "output_type": "stream",
     "text": [
      "Collecting tensorflow-gpu==2.5.0\n",
      "  Using cached tensorflow_gpu-2.5.0-cp37-cp37m-win_amd64.whl (422.6 MB)\n",
      "Requirement already satisfied: keras-nightly~=2.5.0.dev in d:\\hand sign prediction with mp holistics\\hspmpholistic\\lib\\site-packages (from tensorflow-gpu==2.5.0) (2.5.0.dev2021032900)\n",
      "Requirement already satisfied: grpcio~=1.34.0 in d:\\hand sign prediction with mp holistics\\hspmpholistic\\lib\\site-packages (from tensorflow-gpu==2.5.0) (1.34.1)\n",
      "Requirement already satisfied: astunparse~=1.6.3 in d:\\hand sign prediction with mp holistics\\hspmpholistic\\lib\\site-packages (from tensorflow-gpu==2.5.0) (1.6.3)\n",
      "Requirement already satisfied: opt-einsum~=3.3.0 in d:\\hand sign prediction with mp holistics\\hspmpholistic\\lib\\site-packages (from tensorflow-gpu==2.5.0) (3.3.0)\n",
      "Requirement already satisfied: gast==0.4.0 in d:\\hand sign prediction with mp holistics\\hspmpholistic\\lib\\site-packages (from tensorflow-gpu==2.5.0) (0.4.0)\n",
      "Requirement already satisfied: typing-extensions~=3.7.4 in d:\\hand sign prediction with mp holistics\\hspmpholistic\\lib\\site-packages (from tensorflow-gpu==2.5.0) (3.7.4.3)\n",
      "Requirement already satisfied: h5py~=3.1.0 in d:\\hand sign prediction with mp holistics\\hspmpholistic\\lib\\site-packages (from tensorflow-gpu==2.5.0) (3.1.0)\n",
      "Requirement already satisfied: tensorboard~=2.5 in d:\\hand sign prediction with mp holistics\\hspmpholistic\\lib\\site-packages (from tensorflow-gpu==2.5.0) (2.5.0)\n",
      "Requirement already satisfied: google-pasta~=0.2 in d:\\hand sign prediction with mp holistics\\hspmpholistic\\lib\\site-packages (from tensorflow-gpu==2.5.0) (0.2.0)\n",
      "Requirement already satisfied: termcolor~=1.1.0 in d:\\hand sign prediction with mp holistics\\hspmpholistic\\lib\\site-packages (from tensorflow-gpu==2.5.0) (1.1.0)\n",
      "Requirement already satisfied: absl-py~=0.10 in d:\\hand sign prediction with mp holistics\\hspmpholistic\\lib\\site-packages (from tensorflow-gpu==2.5.0) (0.13.0)\n",
      "Requirement already satisfied: wheel~=0.35 in d:\\hand sign prediction with mp holistics\\hspmpholistic\\lib\\site-packages (from tensorflow-gpu==2.5.0) (0.36.2)\n",
      "Requirement already satisfied: tensorflow-estimator<2.6.0,>=2.5.0rc0 in d:\\hand sign prediction with mp holistics\\hspmpholistic\\lib\\site-packages (from tensorflow-gpu==2.5.0) (2.5.0)\n",
      "Requirement already satisfied: six~=1.15.0 in d:\\hand sign prediction with mp holistics\\hspmpholistic\\lib\\site-packages (from tensorflow-gpu==2.5.0) (1.15.0)\n",
      "Requirement already satisfied: protobuf>=3.9.2 in d:\\hand sign prediction with mp holistics\\hspmpholistic\\lib\\site-packages (from tensorflow-gpu==2.5.0) (3.17.3)\n",
      "Requirement already satisfied: keras-preprocessing~=1.1.2 in d:\\hand sign prediction with mp holistics\\hspmpholistic\\lib\\site-packages (from tensorflow-gpu==2.5.0) (1.1.2)\n",
      "Requirement already satisfied: wrapt~=1.12.1 in d:\\hand sign prediction with mp holistics\\hspmpholistic\\lib\\site-packages (from tensorflow-gpu==2.5.0) (1.12.1)\n",
      "Requirement already satisfied: numpy~=1.19.2 in d:\\hand sign prediction with mp holistics\\hspmpholistic\\lib\\site-packages (from tensorflow-gpu==2.5.0) (1.19.5)\n",
      "Requirement already satisfied: flatbuffers~=1.12.0 in d:\\hand sign prediction with mp holistics\\hspmpholistic\\lib\\site-packages (from tensorflow-gpu==2.5.0) (1.12)\n",
      "Requirement already satisfied: cached-property in d:\\hand sign prediction with mp holistics\\hspmpholistic\\lib\\site-packages (from h5py~=3.1.0->tensorflow-gpu==2.5.0) (1.5.2)\n",
      "Requirement already satisfied: setuptools>=41.0.0 in d:\\hand sign prediction with mp holistics\\hspmpholistic\\lib\\site-packages (from tensorboard~=2.5->tensorflow-gpu==2.5.0) (57.0.0)\n",
      "Requirement already satisfied: markdown>=2.6.8 in d:\\hand sign prediction with mp holistics\\hspmpholistic\\lib\\site-packages (from tensorboard~=2.5->tensorflow-gpu==2.5.0) (3.3.4)\n",
      "Requirement already satisfied: requests<3,>=2.21.0 in d:\\hand sign prediction with mp holistics\\hspmpholistic\\lib\\site-packages (from tensorboard~=2.5->tensorflow-gpu==2.5.0) (2.25.1)\n",
      "Requirement already satisfied: google-auth<2,>=1.6.3 in d:\\hand sign prediction with mp holistics\\hspmpholistic\\lib\\site-packages (from tensorboard~=2.5->tensorflow-gpu==2.5.0) (1.32.0)\n",
      "Requirement already satisfied: tensorboard-data-server<0.7.0,>=0.6.0 in d:\\hand sign prediction with mp holistics\\hspmpholistic\\lib\\site-packages (from tensorboard~=2.5->tensorflow-gpu==2.5.0) (0.6.1)\n",
      "Requirement already satisfied: werkzeug>=0.11.15 in d:\\hand sign prediction with mp holistics\\hspmpholistic\\lib\\site-packages (from tensorboard~=2.5->tensorflow-gpu==2.5.0) (2.0.1)\n",
      "Requirement already satisfied: google-auth-oauthlib<0.5,>=0.4.1 in d:\\hand sign prediction with mp holistics\\hspmpholistic\\lib\\site-packages (from tensorboard~=2.5->tensorflow-gpu==2.5.0) (0.4.4)\n",
      "Requirement already satisfied: tensorboard-plugin-wit>=1.6.0 in d:\\hand sign prediction with mp holistics\\hspmpholistic\\lib\\site-packages (from tensorboard~=2.5->tensorflow-gpu==2.5.0) (1.8.0)\n",
      "Requirement already satisfied: rsa<5,>=3.1.4 in d:\\hand sign prediction with mp holistics\\hspmpholistic\\lib\\site-packages (from google-auth<2,>=1.6.3->tensorboard~=2.5->tensorflow-gpu==2.5.0) (4.7.2)\n",
      "Requirement already satisfied: pyasn1-modules>=0.2.1 in d:\\hand sign prediction with mp holistics\\hspmpholistic\\lib\\site-packages (from google-auth<2,>=1.6.3->tensorboard~=2.5->tensorflow-gpu==2.5.0) (0.2.8)\n",
      "Requirement already satisfied: cachetools<5.0,>=2.0.0 in d:\\hand sign prediction with mp holistics\\hspmpholistic\\lib\\site-packages (from google-auth<2,>=1.6.3->tensorboard~=2.5->tensorflow-gpu==2.5.0) (4.2.2)\n",
      "Requirement already satisfied: requests-oauthlib>=0.7.0 in d:\\hand sign prediction with mp holistics\\hspmpholistic\\lib\\site-packages (from google-auth-oauthlib<0.5,>=0.4.1->tensorboard~=2.5->tensorflow-gpu==2.5.0) (1.3.0)\n",
      "Requirement already satisfied: importlib-metadata in d:\\hand sign prediction with mp holistics\\hspmpholistic\\lib\\site-packages (from markdown>=2.6.8->tensorboard~=2.5->tensorflow-gpu==2.5.0) (4.6.0)\n",
      "Requirement already satisfied: pyasn1<0.5.0,>=0.4.6 in d:\\hand sign prediction with mp holistics\\hspmpholistic\\lib\\site-packages (from pyasn1-modules>=0.2.1->google-auth<2,>=1.6.3->tensorboard~=2.5->tensorflow-gpu==2.5.0) (0.4.8)\n",
      "Requirement already satisfied: chardet<5,>=3.0.2 in d:\\hand sign prediction with mp holistics\\hspmpholistic\\lib\\site-packages (from requests<3,>=2.21.0->tensorboard~=2.5->tensorflow-gpu==2.5.0) (4.0.0)\n",
      "Requirement already satisfied: urllib3<1.27,>=1.21.1 in d:\\hand sign prediction with mp holistics\\hspmpholistic\\lib\\site-packages (from requests<3,>=2.21.0->tensorboard~=2.5->tensorflow-gpu==2.5.0) (1.26.6)\n",
      "Requirement already satisfied: idna<3,>=2.5 in d:\\hand sign prediction with mp holistics\\hspmpholistic\\lib\\site-packages (from requests<3,>=2.21.0->tensorboard~=2.5->tensorflow-gpu==2.5.0) (2.10)\n",
      "Requirement already satisfied: certifi>=2017.4.17 in d:\\hand sign prediction with mp holistics\\hspmpholistic\\lib\\site-packages (from requests<3,>=2.21.0->tensorboard~=2.5->tensorflow-gpu==2.5.0) (2021.5.30)\n",
      "Requirement already satisfied: oauthlib>=3.0.0 in d:\\hand sign prediction with mp holistics\\hspmpholistic\\lib\\site-packages (from requests-oauthlib>=0.7.0->google-auth-oauthlib<0.5,>=0.4.1->tensorboard~=2.5->tensorflow-gpu==2.5.0) (3.1.1)\n",
      "Requirement already satisfied: zipp>=0.5 in d:\\hand sign prediction with mp holistics\\hspmpholistic\\lib\\site-packages (from importlib-metadata->markdown>=2.6.8->tensorboard~=2.5->tensorflow-gpu==2.5.0) (3.4.1)\n",
      "Installing collected packages: tensorflow-gpu\n",
      "Successfully installed tensorflow-gpu-2.5.0\n"
     ]
    }
   ],
   "source": [
    "!pip install tensorflow-gpu==2.5.0 "
   ]
  },
  {
   "cell_type": "code",
   "execution_count": 3,
   "id": "af694d9c-396f-4481-8e0c-6faafee7310d",
   "metadata": {
    "collapsed": true,
    "jupyter": {
     "outputs_hidden": true
    },
    "tags": []
   },
   "outputs": [
    {
     "name": "stdout",
     "output_type": "stream",
     "text": [
      "Collecting opencv-python\n",
      "  Using cached opencv_python-4.5.2.54-cp37-cp37m-win_amd64.whl (34.7 MB)\n",
      "Requirement already satisfied: numpy>=1.14.5 in d:\\hand sign prediction with mp holistics\\hspmpholistic\\lib\\site-packages (from opencv-python) (1.19.5)\n",
      "Installing collected packages: opencv-python\n",
      "Successfully installed opencv-python-4.5.2.54\n"
     ]
    }
   ],
   "source": [
    "! pip install opencv-python "
   ]
  },
  {
   "cell_type": "code",
   "execution_count": 4,
   "id": "0b171aff-15c9-4eaf-acaf-187a4e1b5775",
   "metadata": {
    "collapsed": true,
    "jupyter": {
     "outputs_hidden": true
    },
    "tags": []
   },
   "outputs": [
    {
     "name": "stdout",
     "output_type": "stream",
     "text": [
      "Collecting mediapipe\n",
      "  Downloading mediapipe-0.8.6-cp37-cp37m-win_amd64.whl (48.1 MB)\n",
      "Requirement already satisfied: protobuf>=3.11.4 in d:\\hand sign prediction with mp holistics\\hspmpholistic\\lib\\site-packages (from mediapipe) (3.17.3)\n",
      "Collecting matplotlib\n",
      "  Using cached matplotlib-3.4.2-cp37-cp37m-win_amd64.whl (7.1 MB)\n",
      "Requirement already satisfied: six in d:\\hand sign prediction with mp holistics\\hspmpholistic\\lib\\site-packages (from mediapipe) (1.15.0)\n",
      "Requirement already satisfied: wheel in d:\\hand sign prediction with mp holistics\\hspmpholistic\\lib\\site-packages (from mediapipe) (0.36.2)\n",
      "Requirement already satisfied: numpy in d:\\hand sign prediction with mp holistics\\hspmpholistic\\lib\\site-packages (from mediapipe) (1.19.5)\n",
      "Collecting opencv-contrib-python\n",
      "  Using cached opencv_contrib_python-4.5.2.54-cp37-cp37m-win_amd64.whl (41.5 MB)\n",
      "Collecting attrs>=19.1.0\n",
      "  Using cached attrs-21.2.0-py2.py3-none-any.whl (53 kB)\n",
      "Requirement already satisfied: absl-py in d:\\hand sign prediction with mp holistics\\hspmpholistic\\lib\\site-packages (from mediapipe) (0.13.0)\n",
      "Collecting kiwisolver>=1.0.1\n",
      "  Using cached kiwisolver-1.3.1-cp37-cp37m-win_amd64.whl (51 kB)\n",
      "Requirement already satisfied: python-dateutil>=2.7 in d:\\hand sign prediction with mp holistics\\hspmpholistic\\lib\\site-packages (from matplotlib->mediapipe) (2.8.1)\n",
      "Collecting pillow>=6.2.0\n",
      "  Using cached Pillow-8.2.0-cp37-cp37m-win_amd64.whl (2.2 MB)\n",
      "Collecting cycler>=0.10\n",
      "  Using cached cycler-0.10.0-py2.py3-none-any.whl (6.5 kB)\n",
      "Collecting pyparsing>=2.2.1\n",
      "  Using cached pyparsing-2.4.7-py2.py3-none-any.whl (67 kB)\n",
      "Installing collected packages: pyparsing, pillow, kiwisolver, cycler, opencv-contrib-python, matplotlib, attrs, mediapipe\n",
      "Successfully installed attrs-21.2.0 cycler-0.10.0 kiwisolver-1.3.1 matplotlib-3.4.2 mediapipe-0.8.6 opencv-contrib-python-4.5.2.54 pillow-8.2.0 pyparsing-2.4.7\n"
     ]
    }
   ],
   "source": [
    "!pip install mediapipe "
   ]
  },
  {
   "cell_type": "code",
   "execution_count": 5,
   "id": "801882e1-eee0-4f2a-bbd4-10132e3aa2b5",
   "metadata": {
    "collapsed": true,
    "jupyter": {
     "outputs_hidden": true
    },
    "tags": []
   },
   "outputs": [
    {
     "name": "stdout",
     "output_type": "stream",
     "text": [
      "Collecting sklearn\n",
      "  Using cached sklearn-0.0-py2.py3-none-any.whl\n",
      "Collecting scikit-learn\n",
      "  Using cached scikit_learn-0.24.2-cp37-cp37m-win_amd64.whl (6.8 MB)\n",
      "Collecting joblib>=0.11\n",
      "  Using cached joblib-1.0.1-py3-none-any.whl (303 kB)\n",
      "Collecting scipy>=0.19.1\n",
      "  Using cached scipy-1.7.0-cp37-cp37m-win_amd64.whl (33.6 MB)\n",
      "Collecting threadpoolctl>=2.0.0\n",
      "  Using cached threadpoolctl-2.1.0-py3-none-any.whl (12 kB)\n",
      "Requirement already satisfied: numpy>=1.13.3 in d:\\hand sign prediction with mp holistics\\hspmpholistic\\lib\\site-packages (from scikit-learn->sklearn) (1.19.5)\n",
      "Installing collected packages: threadpoolctl, scipy, joblib, scikit-learn, sklearn\n",
      "Successfully installed joblib-1.0.1 scikit-learn-0.24.2 scipy-1.7.0 sklearn-0.0 threadpoolctl-2.1.0\n"
     ]
    }
   ],
   "source": [
    "!pip install sklearn "
   ]
  },
  {
   "cell_type": "code",
   "execution_count": 6,
   "id": "9ae93620-d4de-4ae4-a3a7-d88c6cc85460",
   "metadata": {
    "collapsed": true,
    "jupyter": {
     "outputs_hidden": true
    },
    "tags": []
   },
   "outputs": [
    {
     "name": "stdout",
     "output_type": "stream",
     "text": [
      "Requirement already satisfied: matplotlib in d:\\hand sign prediction with mp holistics\\hspmpholistic\\lib\\site-packages (3.4.2)\n",
      "Requirement already satisfied: python-dateutil>=2.7 in d:\\hand sign prediction with mp holistics\\hspmpholistic\\lib\\site-packages (from matplotlib) (2.8.1)\n",
      "Requirement already satisfied: cycler>=0.10 in d:\\hand sign prediction with mp holistics\\hspmpholistic\\lib\\site-packages (from matplotlib) (0.10.0)\n",
      "Requirement already satisfied: kiwisolver>=1.0.1 in d:\\hand sign prediction with mp holistics\\hspmpholistic\\lib\\site-packages (from matplotlib) (1.3.1)\n",
      "Requirement already satisfied: pyparsing>=2.2.1 in d:\\hand sign prediction with mp holistics\\hspmpholistic\\lib\\site-packages (from matplotlib) (2.4.7)\n",
      "Requirement already satisfied: pillow>=6.2.0 in d:\\hand sign prediction with mp holistics\\hspmpholistic\\lib\\site-packages (from matplotlib) (8.2.0)\n",
      "Requirement already satisfied: numpy>=1.16 in d:\\hand sign prediction with mp holistics\\hspmpholistic\\lib\\site-packages (from matplotlib) (1.19.5)\n",
      "Requirement already satisfied: six in d:\\hand sign prediction with mp holistics\\hspmpholistic\\lib\\site-packages (from cycler>=0.10->matplotlib) (1.15.0)\n"
     ]
    }
   ],
   "source": [
    "!pip install matplotlib"
   ]
  },
  {
   "cell_type": "code",
   "execution_count": 7,
   "id": "d3933141-98ae-4062-8b80-90817c0658ec",
   "metadata": {
    "collapsed": true,
    "jupyter": {
     "outputs_hidden": true
    },
    "tags": []
   },
   "outputs": [
    {
     "name": "stdout",
     "output_type": "stream",
     "text": [
      "Requirement already satisfied: numpy in d:\\hand sign prediction with mp holistics\\hspmpholistic\\lib\\site-packages (1.19.5)\n"
     ]
    }
   ],
   "source": [
    "!pip install numpy"
   ]
  },
  {
   "cell_type": "code",
   "execution_count": 8,
   "id": "884b07b6-d048-4239-9c4e-e93483846add",
   "metadata": {
    "collapsed": true,
    "jupyter": {
     "outputs_hidden": true
    },
    "tags": []
   },
   "outputs": [
    {
     "name": "stdout",
     "output_type": "stream",
     "text": [
      "Requirement already satisfied: opencv-python in d:\\hand sign prediction with mp holistics\\hspmpholistic\\lib\\site-packages (4.5.2.54)\n",
      "Requirement already satisfied: numpy>=1.14.5 in d:\\hand sign prediction with mp holistics\\hspmpholistic\\lib\\site-packages (from opencv-python) (1.19.5)\n"
     ]
    }
   ],
   "source": [
    "!pip install opencv-python"
   ]
  },
  {
   "cell_type": "markdown",
   "id": "ce4691ac-f94a-451b-9345-562910dcb448",
   "metadata": {},
   "source": [
    "### OpenCV Webcam access check\n",
    "1) cv2.VideoCapture(0) generally refers to Webcam of the PC, however in case of a different OS or an external camera, an error for \"Device not found\" may appear, in that case try changing the number from 0 to any other so that it can detect the video device. In case of MacOS there can be a situation where the number might be negative"
   ]
  },
  {
   "cell_type": "code",
   "execution_count": 11,
   "id": "f59579f1-4ca5-4e95-9c91-2b493f60f2a2",
   "metadata": {
    "collapsed": true,
    "jupyter": {
     "outputs_hidden": true
    }
   },
   "outputs": [],
   "source": [
    "# Script to check the availability of webcam\n",
    "import cv2\n",
    "cap =cv2.VideoCapture(0)\n",
    "while cap.isOpened():\n",
    "    ret,frame = cap.read()\n",
    "    cv2.imshow(\"Open CV Feed\",frame)\n",
    "    \n",
    "    if cv2.waitKey(10) & 0xFF == ord(\"q\"):\n",
    "        break\n",
    "cap.release()\n",
    "cv2.destroyAllWindows()"
   ]
  }
 ],
 "metadata": {
  "kernelspec": {
   "display_name": "HSPMPholistic",
   "language": "python",
   "name": "hspmpholistic"
  },
  "language_info": {
   "codemirror_mode": {
    "name": "ipython",
    "version": 3
   },
   "file_extension": ".py",
   "mimetype": "text/x-python",
   "name": "python",
   "nbconvert_exporter": "python",
   "pygments_lexer": "ipython3",
   "version": "3.7.4"
  }
 },
 "nbformat": 4,
 "nbformat_minor": 5
}
